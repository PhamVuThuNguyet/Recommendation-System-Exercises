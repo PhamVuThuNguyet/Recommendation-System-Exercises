{
 "cells": [
  {
   "cell_type": "code",
   "execution_count": 7,
   "id": "2a180b13",
   "metadata": {},
   "outputs": [],
   "source": [
    "import math\n",
    "from decimal import Decimal\n",
    "import numpy as np"
   ]
  },
  {
   "cell_type": "code",
   "execution_count": 59,
   "id": "2953c317",
   "metadata": {},
   "outputs": [],
   "source": [
    "class Similarity():\n",
    "    \"\"\"Five similarity measure function\"\"\"\n",
    "    def euclidean_distance(self, x, y):\n",
    "        \"\"\"x, y: lists\"\"\"\n",
    "        return np.linalg.norm(np.subtract(x, y))\n",
    "    \n",
    "    def manhattan_distance(self, x, y):\n",
    "        return np.sum(np.abs(np.subtract(x, y)))\n",
    "\n",
    "    def minkowsi_distance(self, x, y, p_value):\n",
    "        return math.pow(np.sum(np.power(np.abs(np.subtract(x, y)), p_value)), 1/p_value)\n",
    "    \n",
    "    def cosine_distance(self, x, y):\n",
    "        return np.dot(x, y) / (np.linalg.norm(x) * np.linalg.norm(y))\n",
    "    \n",
    "    def jaccard_similarity(self, x, y):\n",
    "        inter = len(np.intersect1d(x, y))\n",
    "        union = len(np.union1d(x, y))\n",
    "        return float(inter) / union"
   ]
  },
  {
   "cell_type": "code",
   "execution_count": 60,
   "id": "ba92ec84",
   "metadata": {},
   "outputs": [
    {
     "name": "stdout",
     "output_type": "stream",
     "text": [
      "845.8475039863864\n",
      "890\n",
      "845.8475039863864\n",
      "0.6982763742903852\n",
      "0.25\n"
     ]
    }
   ],
   "source": [
    "x = np.asarray((1, 2, 3, 4, 5))\n",
    "y = np.asarray((1, 10, 40, 4, 850))\n",
    "\n",
    "sim = Similarity()\n",
    "print(sim.euclidean_distance(x, y))\n",
    "print(sim.manhattan_distance(x, y))\n",
    "print(sim.minkowsi_distance(x, y, 2))\n",
    "print(sim.cosine_distance(x, y))\n",
    "print(sim.jaccard_similarity(x, y))"
   ]
  },
  {
   "cell_type": "code",
   "execution_count": null,
   "id": "b415f4dc",
   "metadata": {},
   "outputs": [],
   "source": []
  }
 ],
 "metadata": {
  "kernelspec": {
   "display_name": "malaria_detection",
   "language": "python",
   "name": "malaria_detection"
  },
  "language_info": {
   "codemirror_mode": {
    "name": "ipython",
    "version": 3
   },
   "file_extension": ".py",
   "mimetype": "text/x-python",
   "name": "python",
   "nbconvert_exporter": "python",
   "pygments_lexer": "ipython3",
   "version": "3.10.10"
  }
 },
 "nbformat": 4,
 "nbformat_minor": 5
}
